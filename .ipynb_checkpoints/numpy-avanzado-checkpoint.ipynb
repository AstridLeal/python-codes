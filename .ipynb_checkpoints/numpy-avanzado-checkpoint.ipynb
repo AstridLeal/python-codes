{
 "cells": [
  {
   "cell_type": "code",
   "execution_count": 1,
   "id": "178a5cfa-67a4-4396-9e8f-42b511f99ccd",
   "metadata": {},
   "outputs": [
    {
     "name": "stdout",
     "output_type": "stream",
     "text": [
      "Arreglo:  [8 8 3 7 7 0 4 2 5 2]\n"
     ]
    }
   ],
   "source": [
    "import numpy as np\n",
    "arr_rand = np.array([8, 8, 3, 7, 7, 0, 4, 2, 5, 2])\n",
    "print(\"Arreglo: \", arr_rand)"
   ]
  },
  {
   "cell_type": "code",
   "execution_count": 2,
   "id": "f6d0deaa-af7b-472d-b74c-df98dfcc9ec1",
   "metadata": {},
   "outputs": [
    {
     "name": "stdout",
     "output_type": "stream",
     "text": [
      "Posiciones en donde el valor > 5: (array([0, 1, 3, 4]),)\n"
     ]
    }
   ],
   "source": [
    "# Obtener índices (posiciones) en los que el valor sea > 5\n",
    "indices_mayores_5 = np.where(arr_rand > 5)\n",
    "print(\"Posiciones en donde el valor > 5:\",indices_mayores_5)"
   ]
  },
  {
   "cell_type": "code",
   "execution_count": 3,
   "id": "d678353a-0bea-4803-adb1-cfe4be75491d",
   "metadata": {},
   "outputs": [
    {
     "data": {
      "text/plain": [
       "array([[8, 8, 7, 7]])"
      ]
     },
     "execution_count": 3,
     "metadata": {},
     "output_type": "execute_result"
    }
   ],
   "source": [
    "arr_rand.take(indices_mayores_5)"
   ]
  },
  {
   "cell_type": "code",
   "execution_count": 4,
   "id": "483f152b-45b1-44bb-935d-cbc81f2f2636",
   "metadata": {},
   "outputs": [
    {
     "data": {
      "text/plain": [
       "array([8, 8, 7, 7])"
      ]
     },
     "execution_count": 4,
     "metadata": {},
     "output_type": "execute_result"
    }
   ],
   "source": [
    "arr_rand[indices_mayores_5]"
   ]
  },
  {
   "cell_type": "code",
   "execution_count": 5,
   "id": "434220e6-3740-4b64-a3a6-951f3761bf47",
   "metadata": {},
   "outputs": [
    {
     "name": "stdout",
     "output_type": "stream",
     "text": [
      "Posición del elemento más grande (max): 0\n",
      "Posición del elemento más chico  (min): 5\n"
     ]
    }
   ],
   "source": [
    "print(\"Posición del elemento más grande (max):\", np.argmax(arr_rand))\n",
    "print(\"Posición del elemento más chico  (min):\", np.argmin(arr_rand))"
   ]
  },
  {
   "cell_type": "code",
   "execution_count": 6,
   "id": "e8196f55-a3df-43f0-a502-3cd10aa8ee63",
   "metadata": {},
   "outputs": [
    {
     "data": {
      "text/plain": [
       "array([[  18. ,    8. ,  307. ,  130. , 3504. ,   12. ,   70. ,    1. ,\n",
       "        -999. ],\n",
       "       [  15. ,    8. ,  350. ,  165. , 3693. ,   11.5,   70. ,    1. ,\n",
       "        -999. ],\n",
       "       [  18. ,    8. ,  318. ,  150. , 3436. ,   11. ,   70. ,    1. ,\n",
       "        -999. ]])"
      ]
     },
     "execution_count": 6,
     "metadata": {},
     "output_type": "execute_result"
    }
   ],
   "source": [
    "#apagar la notación científica\n",
    "np.set_printoptions(suppress=True)\n",
    "ruta_url = 'https://raw.githubusercontent.com/selva86/datasets/master/Auto.csv'\n",
    "data = np.genfromtxt(ruta_url, delimiter=',', skip_header=1, filling_values=-999, dtype='float')\n",
    "data[:3]"
   ]
  },
  {
   "cell_type": "code",
   "execution_count": 7,
   "id": "2891bf3a-ad33-4b21-b004-3b6fb2279c1b",
   "metadata": {},
   "outputs": [
    {
     "data": {
      "text/plain": [
       "array([(18., 8, 307., 130, 3504, 12. , 70, 1, '\"chevrolet chevelle malibu\"'),\n",
       "       (15., 8, 350., 165, 3693, 11.5, 70, 1, '\"buick skylark 320\"'),\n",
       "       (18., 8, 318., 150, 3436, 11. , 70, 1, '\"plymouth satellite\"')],\n",
       "      dtype=[('f0', '<f8'), ('f1', '<i8'), ('f2', '<f8'), ('f3', '<i8'), ('f4', '<i8'), ('f5', '<f8'), ('f6', '<i8'), ('f7', '<i8'), ('f8', '<U38')])"
      ]
     },
     "execution_count": 7,
     "metadata": {},
     "output_type": "execute_result"
    }
   ],
   "source": [
    "data2 = np.genfromtxt(ruta_url, delimiter=',', skip_header=1, dtype=None, encoding=None)\n",
    "data2[:3]"
   ]
  },
  {
   "cell_type": "code",
   "execution_count": 10,
   "id": "6a33661e-464e-4676-a1f0-3e945bea972e",
   "metadata": {},
   "outputs": [
    {
     "data": {
      "text/plain": [
       "array([[  18. ,    8. ,  307. ,  130. , 3504. ,   12. ,   70. ,    1. ,\n",
       "        -999. ],\n",
       "       [  15. ,    8. ,  350. ,  165. , 3693. ,   11.5,   70. ,    1. ,\n",
       "        -999. ],\n",
       "       [  18. ,    8. ,  318. ,  150. , 3436. ,   11. ,   70. ,    1. ,\n",
       "        -999. ]])"
      ]
     },
     "execution_count": 10,
     "metadata": {},
     "output_type": "execute_result"
    }
   ],
   "source": [
    "data3 = np.genfromtxt(ruta_url, delimiter=',', skip_header=1, dtype=float, filling_values=-999)\n",
    "data3[:3]"
   ]
  },
  {
   "cell_type": "code",
   "execution_count": 11,
   "id": "a85ccb37-87f1-496a-b130-784846748bdd",
   "metadata": {},
   "outputs": [],
   "source": [
    "np.savetxt(\"out.csv\", data3, delimiter=\",\")"
   ]
  },
  {
   "cell_type": "code",
   "execution_count": 22,
   "id": "0459fe80-cd3f-4e7e-b543-2469257f14cd",
   "metadata": {},
   "outputs": [
    {
     "data": {
      "text/plain": [
       "(1200, 1106, 3)"
      ]
     },
     "execution_count": 22,
     "metadata": {},
     "output_type": "execute_result"
    }
   ],
   "source": [
    "import matplotlib.pyplot as plt\n",
    "img = plt.imread('C:/Users/aslea/Documents/Code/python-codes/beagle.jpeg')\n",
    "img.shape"
   ]
  },
  {
   "cell_type": "code",
   "execution_count": 23,
   "id": "2fac0ede-84e7-4e92-b108-65ac41465d6b",
   "metadata": {},
   "outputs": [
    {
     "data": {
      "text/plain": [
       "3"
      ]
     },
     "execution_count": 23,
     "metadata": {},
     "output_type": "execute_result"
    }
   ],
   "source": [
    "img.ndim"
   ]
  },
  {
   "cell_type": "code",
   "execution_count": 24,
   "id": "2befae6a-8041-4449-a9b8-4888a90e26f4",
   "metadata": {},
   "outputs": [
    {
     "data": {
      "text/plain": [
       "array([255, 255, 157], dtype=uint8)"
      ]
     },
     "execution_count": 24,
     "metadata": {},
     "output_type": "execute_result"
    }
   ],
   "source": [
    "img[0,0]"
   ]
  },
  {
   "cell_type": "code",
   "execution_count": null,
   "id": "b65d4543-f0ee-4da8-93a0-ad3a1930e14d",
   "metadata": {},
   "outputs": [],
   "source": []
  }
 ],
 "metadata": {
  "kernelspec": {
   "display_name": "Python 3 (ipykernel)",
   "language": "python",
   "name": "python3"
  },
  "language_info": {
   "codemirror_mode": {
    "name": "ipython",
    "version": 3
   },
   "file_extension": ".py",
   "mimetype": "text/x-python",
   "name": "python",
   "nbconvert_exporter": "python",
   "pygments_lexer": "ipython3",
   "version": "3.12.4"
  }
 },
 "nbformat": 4,
 "nbformat_minor": 5
}
